{
  "cells": [
    {
      "cell_type": "code",
      "execution_count": null,
      "id": "54f05e09",
      "metadata": {
        "id": "54f05e09"
      },
      "outputs": [],
      "source": [
        "import warnings\n",
        "warnings.simplefilter(action='ignore', category=FutureWarning)"
      ]
    },
    {
      "cell_type": "code",
      "execution_count": null,
      "id": "e65d9cc2",
      "metadata": {
        "id": "e65d9cc2"
      },
      "outputs": [],
      "source": [
        "from modules import transfer_entropy as TE\n",
        "import pandas as pd\n",
        "import matplotlib.pyplot as plt\n",
        "import numpy as np"
      ]
    },
    {
      "cell_type": "code",
      "execution_count": null,
      "id": "4e47bf33",
      "metadata": {
        "id": "4e47bf33"
      },
      "outputs": [],
      "source": [
        "df = pd.read_csv(\"data/NYC_time_series_sa_det.csv\")"
      ]
    },
    {
      "cell_type": "code",
      "execution_count": null,
      "id": "fc284161",
      "metadata": {
        "id": "fc284161"
      },
      "outputs": [],
      "source": [
        "pb = TE.Median_Symbolise_3bins(df[\"Police_Brutality_lagged_sa_det\"].values)\n",
        "cr = TE.Median_Symbolise_3bins(df[\"felonies_sa_det\"].values)\n",
        "wcr =  TE.Median_Symbolise_3bins(df[\"Composite_Crimes_sa_det\"].values)\n",
        "pt = TE.Median_Symbolise_3bins(df[\"Pntweets_sa_det\"].values)\n",
        "nt = TE.Median_Symbolise_3bins(df[\"Nntweets_sa_det\"].values)\n",
        "lx = 1\n",
        "ly = 1\n",
        "lz = np.array([1])\n",
        "iterations = 20000"
      ]
    },
    {
      "cell_type": "code",
      "execution_count": null,
      "id": "b954111d",
      "metadata": {
        "id": "b954111d",
        "outputId": "16ff253e-b710-400d-ab51-7c3b04edd0af"
      },
      "outputs": [
        {
          "name": "stdout",
          "output_type": "stream",
          "text": [
            "p-val = 0.973151\n",
            "TE = 0.00421358937959071\n",
            "Quantile = 0.009966089022990565\n"
          ]
        },
        {
          "data": {
            "image/png": "[encoded data removed]",
            "text/plain": [
              "<Figure size 432x288 with 1 Axes>"
            ]
          },
          "metadata": {
            "needs_background": "light"
          },
          "output_type": "display_data"
        }
      ],
      "source": [
        "#Crimes to negative number\n",
        "True_TE_CRNT = TE.CondTransEnt(X =nt,Y =cr,Z =[pb],lagx = lx,lagy = ly,lagz =lz)\n",
        "surrogateValues = []\n",
        "for index in range(iterations):\n",
        "    Series = TE.Permutate(cr, nt, [pb])\n",
        "    surrogateValues.append(TE.CondTransEnt(Series[1], Series[0], Series[2], lagx=lx, lagy=ly, lagz=lz))\n",
        "nintyfifth = np.percentile(surrogateValues, 95)\n",
        "\n",
        "print(\"p-val = \" + str(round(1 - TE.getPvalue(surrogateValues, True_TE_CRNT),6)))\n",
        "print(\"TE = \"+str(True_TE_CRNT))\n",
        "print(\"Quantile = \"+str(nintyfifth))\n",
        "\n",
        "plt.axvline(nintyfifth, color='r', linewidth=1)\n",
        "plt.axvline(True_TE_CRNT, color='k', linestyle='dashed', linewidth=1)\n",
        "plt.hist(surrogateValues, bins='auto');"
      ]
    },
    {
      "cell_type": "code",
      "execution_count": null,
      "id": "5a1b5097",
      "metadata": {
        "id": "5a1b5097",
        "outputId": "063eac35-a369-4813-a17b-a524d2af4f5c"
      },
      "outputs": [
        {
          "name": "stdout",
          "output_type": "stream",
          "text": [
            "p-val = 0.064247\n",
            "TE = 0.009705149224749077\n",
            "Quantile = 0.009967185472808726\n"
          ]
        },
        {
          "data": {
            "image/png": "[encoded data removed]",
            "text/plain": [
              "<Figure size 432x288 with 1 Axes>"
            ]
          },
          "metadata": {
            "needs_background": "light"
          },
          "output_type": "display_data"
        }
      ],
      "source": [
        "#Crimes to positive number\n",
        "True_TE_CRPT = TE.CondTransEnt(X =pt,Y =cr,Z =[pb],lagx = lx,lagy = ly,lagz =lz)\n",
        "surrogateValues = []\n",
        "for index in range(iterations):\n",
        "    Series = TE.Permutate(cr, pt, [pb])\n",
        "    surrogateValues.append(TE.CondTransEnt(Series[1], Series[0], Series[2], lagx=lx, lagy=ly, lagz=lz))\n",
        "nintyfifth = np.percentile(surrogateValues, 95)\n",
        "\n",
        "print(\"p-val = \" + str(round(1 - TE.getPvalue(surrogateValues, True_TE_CRPT),6)))\n",
        "print(\"TE = \"+str(True_TE_CRPT))\n",
        "\n",
        "print(\"Quantile = \"+str(nintyfifth))\n",
        "\n",
        "plt.axvline(nintyfifth, color='r', linewidth=1)\n",
        "plt.axvline(True_TE_CRPT, color='k', linestyle='dashed', linewidth=1)\n",
        "plt.hist(surrogateValues, bins='auto');"
      ]
    },
    {
      "cell_type": "code",
      "execution_count": null,
      "id": "52f5ded0",
      "metadata": {
        "id": "52f5ded0",
        "outputId": "bd0554db-32e4-477f-f136-01616297b0a4"
      },
      "outputs": [
        {
          "name": "stdout",
          "output_type": "stream",
          "text": [
            "p-val = 0.927754\n",
            "TE = 0.004791492577649326\n",
            "Quantile = 0.009973763949544568\n"
          ]
        },
        {
          "data": {
            "image/png": "[encoded data removed]",
            "text/plain": [
              "<Figure size 432x288 with 1 Axes>"
            ]
          },
          "metadata": {
            "needs_background": "light"
          },
          "output_type": "display_data"
        }
      ],
      "source": [
        "#we Crimes to negative number\n",
        "True_TE_WCRNT = TE.CondTransEnt(X =nt,Y =wcr,Z =[pb],lagx = lx,lagy = ly,lagz =lz)\n",
        "surrogateValues = []\n",
        "for index in range(iterations):\n",
        "    Series = TE.Permutate(wcr, nt, [pb])\n",
        "    surrogateValues.append(TE.CondTransEnt(Series[1], Series[0], Series[2], lagx=lx, lagy=ly, lagz=lz))\n",
        "nintyfifth = np.percentile(surrogateValues, 95)\n",
        "\n",
        "print(\"p-val = \" + str(round(1 - TE.getPvalue(surrogateValues, True_TE_WCRNT),6)))\n",
        "print(\"TE = \"+str(True_TE_WCRNT))\n",
        "print(\"Quantile = \"+str(nintyfifth))\n",
        "\n",
        "plt.axvline(nintyfifth, color='r', linewidth=1)\n",
        "plt.axvline(True_TE_WCRNT, color='k', linestyle='dashed', linewidth=1)\n",
        "plt.hist(surrogateValues, bins='auto');"
      ]
    },
    {
      "cell_type": "code",
      "execution_count": null,
      "id": "d0deab8a",
      "metadata": {
        "id": "d0deab8a",
        "outputId": "fb31a13c-4637-4da0-86cd-8b97bb89a8ee"
      },
      "outputs": [
        {
          "name": "stdout",
          "output_type": "stream",
          "text": [
            "p-val = 0.302885\n",
            "TE = 0.007748703278785074\n",
            "Quantile = 0.009913948225696145\n"
          ]
        },
        {
          "data": {
            "image/png": "[encoded data removed]",
            "text/plain": [
              "<Figure size 432x288 with 1 Axes>"
            ]
          },
          "metadata": {
            "needs_background": "light"
          },
          "output_type": "display_data"
        }
      ],
      "source": [
        "#We Crimes to positive number\n",
        "True_TE_WCRPT = TE.CondTransEnt(X =pt,Y =wcr,Z =[pb],lagx = lx,lagy = ly,lagz =lz)\n",
        "surrogateValues = []\n",
        "for index in range(iterations):\n",
        "    Series = TE.Permutate(wcr, pt, [pb])\n",
        "    surrogateValues.append(TE.CondTransEnt(Series[1], Series[0], Series[2], lagx=lx, lagy=ly, lagz=lz))\n",
        "nintyfifth = np.percentile(surrogateValues, 95)\n",
        "\n",
        "print(\"p-val = \" + str(round(1 - TE.getPvalue(surrogateValues, True_TE_WCRPT),6)))\n",
        "print(\"TE = \"+str(True_TE_WCRPT))\n",
        "print(\"Quantile = \"+str(nintyfifth))\n",
        "\n",
        "plt.axvline(nintyfifth, color='r', linewidth=1)\n",
        "plt.axvline(True_TE_WCRPT, color='k', linestyle='dashed', linewidth=1)\n",
        "plt.hist(surrogateValues, bins='auto');"
      ]
    },
    {
      "cell_type": "code",
      "execution_count": null,
      "id": "58cb589f",
      "metadata": {
        "id": "58cb589f",
        "outputId": "dfc46297-bd5f-4626-d592-d293d75d33ec"
      },
      "outputs": [
        {
          "name": "stdout",
          "output_type": "stream",
          "text": [
            "p-val = 0.0\n",
            "TE = 0.024297972201576368\n",
            "Quantile = 0.01008189304808592\n"
          ]
        },
        {
          "data": {
            "image/png": "[encoded data removed]",
            "text/plain": [
              "<Figure size 432x288 with 1 Axes>"
            ]
          },
          "metadata": {
            "needs_background": "light"
          },
          "output_type": "display_data"
        }
      ],
      "source": [
        "#PB to negative number\n",
        "True_TE_PBNT = TE.CondTransEnt(X =nt,Y =pb,Z =[wcr],lagx = lx,lagy = ly,lagz =lz)\n",
        "surrogateValues = []\n",
        "for index in range(iterations):\n",
        "    Series = TE.Permutate(pb, nt, [wcr])\n",
        "    surrogateValues.append(TE.CondTransEnt(Series[1], Series[0], Series[2], lagx=lx, lagy=ly, lagz=lz))\n",
        "nintyfifth = np.percentile(surrogateValues, 95)\n",
        "\n",
        "print(\"p-val = \" + str(round(1 - TE.getPvalue(surrogateValues, True_TE_PBNT),6)))\n",
        "print(\"TE = \"+str(True_TE_PBNT))\n",
        "print(\"Quantile = \"+str(nintyfifth))\n",
        "\n",
        "plt.axvline(nintyfifth, color='r', linewidth=1)\n",
        "plt.axvline(True_TE_PBNT, color='k', linestyle='dashed', linewidth=1)\n",
        "plt.hist(surrogateValues, bins='auto');"
      ]
    },
    {
      "cell_type": "code",
      "execution_count": null,
      "id": "dec62703",
      "metadata": {
        "id": "dec62703",
        "outputId": "0c86ac2d-b75e-4ea5-dee8-b26311d90ddd"
      },
      "outputs": [
        {
          "name": "stdout",
          "output_type": "stream",
          "text": [
            "The history saving thread hit an unexpected error (OperationalError('database is locked')).History will not be written to the database.\n",
            "p-val = 0.0\n",
            "TE = 0.02370670947638298\n",
            "Quantile = 0.010020661204257507\n"
          ]
        },
        {
          "data": {
            "image/png": "[encoded data removed]",
            "text/plain": [
              "<Figure size 432x288 with 1 Axes>"
            ]
          },
          "metadata": {
            "needs_background": "light"
          },
          "output_type": "display_data"
        }
      ],
      "source": [
        "#PB to negative number\n",
        "True_TE_PBNT = TE.CondTransEnt(X =nt,Y =pb,Z =[cr],lagx = lx,lagy = ly,lagz =lz)\n",
        "surrogateValues = []\n",
        "for index in range(iterations):\n",
        "    Series = TE.Permutate(pb, nt, [cr])\n",
        "    surrogateValues.append(TE.CondTransEnt(Series[1], Series[0], Series[2], lagx=lx, lagy=ly, lagz=lz))\n",
        "nintyfifth = np.percentile(surrogateValues, 95)\n",
        "\n",
        "print(\"p-val = \" + str(round(1 - TE.getPvalue(surrogateValues, True_TE_PBNT),6)))\n",
        "print(\"TE = \"+str(True_TE_PBNT))\n",
        "print(\"Quantile = \"+str(nintyfifth))\n",
        "\n",
        "plt.axvline(nintyfifth, color='r', linewidth=1)\n",
        "plt.axvline(True_TE_PBNT, color='k', linestyle='dashed', linewidth=1)\n",
        "plt.hist(surrogateValues, bins='auto');"
      ]
    }
  ],
  "metadata": {
    "kernelspec": {
      "display_name": "Python 3 (ipykernel)",
      "language": "python",
      "name": "python3"
    },
    "language_info": {
      "codemirror_mode": {
        "name": "ipython",
        "version": 3
      },
      "file_extension": ".py",
      "mimetype": "text/x-python",
      "name": "python",
      "nbconvert_exporter": "python",
      "pygments_lexer": "ipython3",
      "version": "3.8.5"
    },
    "colab": {
      "provenance": []
    }
  },
  "nbformat": 4,
  "nbformat_minor": 5
}